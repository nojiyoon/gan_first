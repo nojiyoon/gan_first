{
  "nbformat": 4,
  "nbformat_minor": 0,
  "metadata": {
    "colab": {
      "name": "07.손으로 쓴 숫자 훈련.ipynb",
      "provenance": [],
      "authorship_tag": "ABX9TyOVkJW/gHVq4f2rvNflBAhi",
      "include_colab_link": true
    },
    "kernelspec": {
      "name": "python3",
      "display_name": "Python 3"
    },
    "language_info": {
      "name": "python"
    },
    "accelerator": "GPU"
  },
  "cells": [
    {
      "cell_type": "markdown",
      "metadata": {
        "id": "view-in-github",
        "colab_type": "text"
      },
      "source": [
        "<a href=\"https://colab.research.google.com/github/nojiyoon/gan_first/blob/main/07_%EC%86%90%EC%9C%BC%EB%A1%9C_%EC%93%B4_%EC%88%AB%EC%9E%90_%ED%9B%88%EB%A0%A8.ipynb\" target=\"_parent\"><img src=\"https://colab.research.google.com/assets/colab-badge.svg\" alt=\"Open In Colab\"/></a>"
      ]
    },
    {
      "cell_type": "code",
      "metadata": {
        "colab": {
          "base_uri": "https://localhost:8080/"
        },
        "id": "zH0uw6Vwea-8",
        "outputId": "f1d72561-5c68-47b8-9ae2-501f87e9b45a"
      },
      "source": [
        "!wget https://pjreddie.com/media/files/mnist_train.csv\n",
        "!wget https://pjreddie.com/media/files/mnist_test.csv"
      ],
      "execution_count": 1,
      "outputs": [
        {
          "output_type": "stream",
          "name": "stdout",
          "text": [
            "--2021-10-26 02:42:21--  https://pjreddie.com/media/files/mnist_train.csv\n",
            "Resolving pjreddie.com (pjreddie.com)... 128.208.4.108\n",
            "Connecting to pjreddie.com (pjreddie.com)|128.208.4.108|:443... connected.\n",
            "HTTP request sent, awaiting response... 200 OK\n",
            "Length: 109575994 (104M) [application/octet-stream]\n",
            "Saving to: ‘mnist_train.csv’\n",
            "\n",
            "mnist_train.csv     100%[===================>] 104.50M  52.4MB/s    in 2.0s    \n",
            "\n",
            "2021-10-26 02:42:23 (52.4 MB/s) - ‘mnist_train.csv’ saved [109575994/109575994]\n",
            "\n",
            "--2021-10-26 02:42:23--  https://pjreddie.com/media/files/mnist_test.csv\n",
            "Resolving pjreddie.com (pjreddie.com)... 128.208.4.108\n",
            "Connecting to pjreddie.com (pjreddie.com)|128.208.4.108|:443... connected.\n",
            "HTTP request sent, awaiting response... 200 OK\n",
            "Length: 18289443 (17M) [application/octet-stream]\n",
            "Saving to: ‘mnist_test.csv’\n",
            "\n",
            "mnist_test.csv      100%[===================>]  17.44M  33.2MB/s    in 0.5s    \n",
            "\n",
            "2021-10-26 02:42:24 (33.2 MB/s) - ‘mnist_test.csv’ saved [18289443/18289443]\n",
            "\n"
          ]
        }
      ]
    },
    {
      "cell_type": "code",
      "metadata": {
        "id": "deXAJFuoItNu"
      },
      "source": [
        "import torch\n",
        "import torch.nn as nn\n",
        "from torch.utils.data import Dataset\n",
        "\n",
        "import pandas, numpy, random\n",
        "import matplotlib.pyplot as plt"
      ],
      "execution_count": 2,
      "outputs": []
    },
    {
      "cell_type": "markdown",
      "metadata": {
        "id": "Dn7w-BBKgmPm"
      },
      "source": [
        "# 데이터셋 클래스"
      ]
    },
    {
      "cell_type": "code",
      "metadata": {
        "id": "L_Rb0yj5fGv_"
      },
      "source": [
        "# dataset class\n",
        "\n",
        "class MnistDataset(Dataset):\n",
        "    \n",
        "    def __init__(self, csv_file):\n",
        "        self.data_df = pandas.read_csv(csv_file, header=None)\n",
        "        pass\n",
        "    \n",
        "    def __len__(self):\n",
        "        return len(self.data_df)\n",
        "    \n",
        "    def __getitem__(self, index):\n",
        "        # image target (label)\n",
        "        label = self.data_df.iloc[index,0]\n",
        "        target = torch.zeros((10))\n",
        "        target[label] = 1.0\n",
        "        \n",
        "        # image data, normalised from 0-255 to 0-1\n",
        "        image_values = torch.FloatTensor(self.data_df.iloc[index,1:].values) / 255.0\n",
        "        \n",
        "        # return label, image data tensor and target tensor\n",
        "        return label, image_values, target\n",
        "    \n",
        "    def plot_image(self, index):\n",
        "        img = self.data_df.iloc[index,1:].values.reshape(28,28)\n",
        "        plt.title(\"label = \" + str(self.data_df.iloc[index,0]))\n",
        "        plt.imshow(img, interpolation='none', cmap='Blues')\n",
        "        pass\n",
        "    \n",
        "    pass"
      ],
      "execution_count": 5,
      "outputs": []
    },
    {
      "cell_type": "code",
      "metadata": {
        "id": "ORuAdpJXRmVz"
      },
      "source": [
        "# load data\n",
        "mnist_dataset = MnistDataset('/content/mnist_train.csv')"
      ],
      "execution_count": 6,
      "outputs": []
    },
    {
      "cell_type": "code",
      "metadata": {
        "colab": {
          "base_uri": "https://localhost:8080/",
          "height": 281
        },
        "id": "W_w_kiisfKBt",
        "outputId": "122a6bbe-f45e-4a57-bfb4-78be9757cfad"
      },
      "source": [
        "# check data contains images\n",
        "\n",
        "mnist_dataset.plot_image(17)"
      ],
      "execution_count": 7,
      "outputs": [
        {
          "output_type": "display_data",
          "data": {
            "image/png": "[encoded data removed]",
            "text/plain": [
              "<Figure size 432x288 with 1 Axes>"
            ]
          },
          "metadata": {
            "needs_background": "light"
          }
        }
      ]
    },
    {
      "cell_type": "markdown",
      "metadata": {
        "id": "BzU6JsvFhhlZ"
      },
      "source": [
        "# Data Functions"
      ]
    },
    {
      "cell_type": "code",
      "metadata": {
        "id": "gEbJeJ9hhgVE"
      },
      "source": [
        "# function to generate uniform random data\n",
        "\n",
        "def generate_random(size):\n",
        "    random_data = torch.rand(size)\n",
        "    return random_data"
      ],
      "execution_count": 9,
      "outputs": []
    },
    {
      "cell_type": "markdown",
      "metadata": {
        "id": "zSWxEqRxgpr-"
      },
      "source": [
        "# mnist 판별기"
      ]
    },
    {
      "cell_type": "code",
      "metadata": {
        "id": "ZKaMvgUVgpJ8"
      },
      "source": [
        "class Discriminator(nn.Module):\n",
        "\n",
        "  def __init__(self):\n",
        "    # 파이토치 부모 클래스 초기화\n",
        "    super().__init__()\n",
        "\n",
        "    # 신경망 레이어 정의\n",
        "    self.model = nn.Sequential(\n",
        "        nn.Linear(784, 200),\n",
        "        nn.Sigmoid(),\n",
        "        nn.Linear(200, 1),\n",
        "        nn.Sigmoid()\n",
        "    )\n",
        "\n",
        "    # 손실함수 설정\n",
        "    self.loss_function = nn.MSELoss()\n",
        "\n",
        "    # SGD 옵티마이저 설정\n",
        "    self.optimiser = torch.optim.SGD(self.parameters(), lr=0.01)\n",
        "\n",
        "    # 진행 측정을 위한 변수 초기화\n",
        "    self.counter = 0;\n",
        "    self.progress = []\n",
        "\n",
        "    pass\n",
        "\n",
        "  def forward(self, inputs):\n",
        "    # 모델 실행\n",
        "    return self.model(inputs)\n",
        "\n",
        "  def train(self, inputs, targets):\n",
        "    # 신경망 출력 계산\n",
        "    outputs = self.forward(inputs)\n",
        "\n",
        "    # 손실 계산\n",
        "    loss = self.loss_function(outputs, targets)\n",
        "\n",
        "    # 카운터를 증가시키고 10회마다 오차 저장\n",
        "    self.counter += 1;\n",
        "    if (self.counter % 10 == 0):\n",
        "      self.progress.append(loss.item())\n",
        "      pass\n",
        "    if (self.counter % 10000 == 0):\n",
        "      print(\"counter = \", self.counter)\n",
        "      pass\n",
        "    \n",
        "    # 기울기를 초기화하고 역전파 후 가중치 갱신\n",
        "    self.optimiser.zero_grad()\n",
        "    loss.backward()\n",
        "    self.optimiser.step()\n",
        "\n",
        "    pass\n",
        "\n",
        "  def plot_progress(self):\n",
        "    df = pandas.DataFrame(self.progress, columns=['loss'])\n",
        "    df.plot(ylim=(0, 1.0), figsize=(16,8), alpha=0.2, marker='.', \n",
        "            grid=True, yticks=(0, 0.25, 0.5))\n",
        "    pass"
      ],
      "execution_count": 8,
      "outputs": []
    },
    {
      "cell_type": "markdown",
      "metadata": {
        "id": "6dpVXZg7hF9q"
      },
      "source": [
        "# 판별기 테스트하기"
      ]
    },
    {
      "cell_type": "code",
      "metadata": {
        "colab": {
          "base_uri": "https://localhost:8080/"
        },
        "id": "bsmzz2zYfXJL",
        "outputId": "181c8521-1a0e-44be-bbb8-7f1ec4b2bb49"
      },
      "source": [
        "%%time\n",
        "# test discriminator can separate real data from random noise\n",
        "\n",
        "D = Discriminator()\n",
        "\n",
        "for label, image_data_tensor, target_tensor in mnist_dataset:\n",
        "  # 실제 데이터\n",
        "  D.train(image_data_tensor, torch.FloatTensor([1.0]))\n",
        "  # 생성된 데이터\n",
        "  D.train(generate_random(784), torch.FloatTensor([0.0]))\n",
        "  pass"
      ],
      "execution_count": 11,
      "outputs": [
        {
          "output_type": "stream",
          "name": "stdout",
          "text": [
            "counter =  10000\n",
            "counter =  20000\n",
            "counter =  30000\n",
            "counter =  40000\n",
            "counter =  50000\n",
            "counter =  60000\n",
            "counter =  70000\n",
            "counter =  80000\n",
            "counter =  90000\n",
            "counter =  100000\n",
            "counter =  110000\n",
            "counter =  120000\n",
            "CPU times: user 2min 12s, sys: 1.4 s, total: 2min 14s\n",
            "Wall time: 2min 14s\n"
          ]
        }
      ]
    },
    {
      "cell_type": "code",
      "metadata": {
        "id": "1E1MZ47ziUlo"
      },
      "source": [
        "# plot discriminator loss\n",
        "\n",
        "D.plot_progress()"
      ],
      "execution_count": null,
      "outputs": []
    }
  ]
}