{
  "nbformat": 4,
  "nbformat_minor": 0,
  "metadata": {
    "colab": {
      "name": "08.얼굴 이미지-01.ipynb",
      "provenance": [],
      "collapsed_sections": [],
      "mount_file_id": "1IFtJPBLXAf26X-ptONdrtjcUTDpoGoR0",
      "authorship_tag": "ABX9TyOPhrK/L/ALvOqum+QVSNYR",
      "include_colab_link": true
    },
    "kernelspec": {
      "name": "python3",
      "display_name": "Python 3"
    },
    "language_info": {
      "name": "python"
    }
  },
  "cells": [
    {
      "cell_type": "markdown",
      "metadata": {
        "id": "view-in-github",
        "colab_type": "text"
      },
      "source": [
        "<a href=\"https://colab.research.google.com/github/nojiyoon/gan_first/blob/main/08_%EC%96%BC%EA%B5%B4_%EC%9D%B4%EB%AF%B8%EC%A7%80_01.ipynb\" target=\"_parent\"><img src=\"https://colab.research.google.com/assets/colab-badge.svg\" alt=\"Open In Colab\"/></a>"
      ]
    },
    {
      "cell_type": "markdown",
      "source": [
        "# 데이터 가져오기"
      ],
      "metadata": {
        "id": "p1nyjhb2DzfK"
      }
    },
    {
      "cell_type": "markdown",
      "source": [
        "# Extract Images and Re-Package as HDF5"
      ],
      "metadata": {
        "id": "6feC6aCQIZE6"
      }
    },
    {
      "cell_type": "code",
      "source": [
        "# http://mmlab.ie.cuhk.edu.hk/projects/CelebA.html"
      ],
      "metadata": {
        "id": "uuqXYq3uMCe9"
      },
      "execution_count": null,
      "outputs": []
    },
    {
      "cell_type": "code",
      "source": [
        "import h5py\n",
        "import zipfile\n",
        "import imageio\n",
        "import os"
      ],
      "metadata": {
        "id": "14Zn6H33EmS_"
      },
      "execution_count": 3,
      "outputs": []
    },
    {
      "cell_type": "code",
      "source": [
        "%%time\n",
        "\n",
        "# location of the HDF5 package, yours may be under /gan/ not /myo_gan/\n",
        "hdf5_file = '/content/drive/MyDrive/ColabNotebooks/GAN첫걸음/celeba_dataset/celeba_aligned_small.h5py'\n",
        "\n",
        "# how many of the 202,599 images to extract and package into HDF5\n",
        "total_images = 20000\n",
        "\n",
        "with h5py.File(hdf5_file, 'w') as hf:\n",
        "\n",
        "    count = 0\n",
        "\n",
        "    with zipfile.ZipFile('/content/drive/MyDrive/ColabNotebooks/GAN첫걸음/celeba/img_align_celeba.zip', 'r') as zf:\n",
        "      for i in zf.namelist():\n",
        "        if (i[-4:] == '.jpg'):\n",
        "          # extract image\n",
        "          ofile = zf.extract(i)\n",
        "          img = imageio.imread(ofile)\n",
        "          os.remove(ofile)\n",
        "\n",
        "          # add image data to HDF5 file with new name\n",
        "          hf.create_dataset('img_align_celeba/'+str(count)+'.jpg', data=img, compression=\"gzip\", compression_opts=9)\n",
        "          \n",
        "          count = count + 1\n",
        "          if (count%1000 == 0):\n",
        "            print(\"images done .. \", count)\n",
        "            pass\n",
        "            \n",
        "          # stop when total_images reached\n",
        "          if (count == total_images):\n",
        "            break\n",
        "          pass\n",
        "\n",
        "        pass\n",
        "      pass"
      ],
      "metadata": {
        "colab": {
          "base_uri": "https://localhost:8080/"
        },
        "id": "OxTfcqufIade",
        "outputId": "00afead4-c962-40c9-84c4-c5d03b0668c7"
      },
      "execution_count": 4,
      "outputs": [
        {
          "output_type": "stream",
          "name": "stdout",
          "text": [
            "images done ..  1000\n",
            "images done ..  2000\n",
            "images done ..  3000\n",
            "images done ..  4000\n",
            "images done ..  5000\n",
            "images done ..  6000\n",
            "images done ..  7000\n",
            "images done ..  8000\n",
            "images done ..  9000\n",
            "images done ..  10000\n",
            "images done ..  11000\n",
            "images done ..  12000\n",
            "images done ..  13000\n",
            "images done ..  14000\n",
            "images done ..  15000\n",
            "images done ..  16000\n",
            "images done ..  17000\n",
            "images done ..  18000\n",
            "images done ..  19000\n",
            "images done ..  20000\n",
            "CPU times: user 3min 21s, sys: 15.7 s, total: 3min 37s\n",
            "Wall time: 4min 30s\n"
          ]
        }
      ]
    }
  ]
}