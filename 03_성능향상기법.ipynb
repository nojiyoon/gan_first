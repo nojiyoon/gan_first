{
  "nbformat": 4,
  "nbformat_minor": 0,
  "metadata": {
    "colab": {
      "name": "03.성능향상기법.ipynb",
      "provenance": [],
      "collapsed_sections": [],
      "machine_shape": "hm",
      "authorship_tag": "ABX9TyN6cWDn3dqYUimgsVHDgkrg",
      "include_colab_link": true
    },
    "kernelspec": {
      "name": "python3",
      "display_name": "Python 3"
    },
    "language_info": {
      "name": "python"
    },
    "accelerator": "GPU"
  },
  "cells": [
    {
      "cell_type": "markdown",
      "metadata": {
        "id": "view-in-github",
        "colab_type": "text"
      },
      "source": [
        "<a href=\"https://colab.research.google.com/github/nojiyoon/gan_first/blob/main/03_%EC%84%B1%EB%8A%A5%ED%96%A5%EC%83%81%EA%B8%B0%EB%B2%95.ipynb\" target=\"_parent\"><img src=\"https://colab.research.google.com/assets/colab-badge.svg\" alt=\"Open In Colab\"/></a>"
      ]
    },
    {
      "cell_type": "markdown",
      "metadata": {
        "id": "PSXN9CQ3Eozr"
      },
      "source": [
        "https://github.com/makeyourownneuralnetwork/gan/blob/master/04_mnist_classifier_refinements.ipynb"
      ]
    },
    {
      "cell_type": "markdown",
      "metadata": {
        "id": "LFbLVhPKCFlc"
      },
      "source": [
        "# 데이터셋"
      ]
    },
    {
      "cell_type": "code",
      "metadata": {
        "id": "f4AmjiaxotL1",
        "colab": {
          "base_uri": "https://localhost:8080/"
        },
        "outputId": "83dc8a17-b314-463e-dc70-260696c36b23"
      },
      "source": [
        "!wget https://pjreddie.com/media/files/mnist_train.csv\n",
        "!wget https://pjreddie.com/media/files/mnist_test.csv"
      ],
      "execution_count": 106,
      "outputs": [
        {
          "output_type": "stream",
          "text": [
            "--2021-06-11 09:56:42--  https://pjreddie.com/media/files/mnist_train.csv\n",
            "Resolving pjreddie.com (pjreddie.com)... 128.208.4.108\n",
            "Connecting to pjreddie.com (pjreddie.com)|128.208.4.108|:443... connected.\n",
            "HTTP request sent, awaiting response... 200 OK\n",
            "Length: 109575994 (104M) [application/octet-stream]\n",
            "Saving to: ‘mnist_train.csv.2’\n",
            "\n",
            "mnist_train.csv.2   100%[===================>] 104.50M  23.2MB/s    in 5.2s    \n",
            "\n",
            "2021-06-11 09:56:48 (19.9 MB/s) - ‘mnist_train.csv.2’ saved [109575994/109575994]\n",
            "\n",
            "--2021-06-11 09:56:48--  https://pjreddie.com/media/files/mnist_test.csv\n",
            "Resolving pjreddie.com (pjreddie.com)... 128.208.4.108\n",
            "Connecting to pjreddie.com (pjreddie.com)|128.208.4.108|:443... connected.\n",
            "HTTP request sent, awaiting response... 200 OK\n",
            "Length: 18289443 (17M) [application/octet-stream]\n",
            "Saving to: ‘mnist_test.csv.2’\n",
            "\n",
            "mnist_test.csv.2    100%[===================>]  17.44M  12.0MB/s    in 1.5s    \n",
            "\n",
            "2021-06-11 09:56:50 (12.0 MB/s) - ‘mnist_test.csv.2’ saved [18289443/18289443]\n",
            "\n"
          ],
          "name": "stdout"
        }
      ]
    },
    {
      "cell_type": "code",
      "metadata": {
        "id": "axDezbsQrhLJ"
      },
      "source": [
        "import pandas"
      ],
      "execution_count": 107,
      "outputs": []
    },
    {
      "cell_type": "code",
      "metadata": {
        "id": "iRRh6NMVronI"
      },
      "source": [
        "df = pandas.read_csv('mnist_train.csv', header=None)"
      ],
      "execution_count": 108,
      "outputs": []
    },
    {
      "cell_type": "code",
      "metadata": {
        "colab": {
          "base_uri": "https://localhost:8080/",
          "height": 253
        },
        "id": "5Q5G31Surv8B",
        "outputId": "c117bc9a-278c-4c56-94ce-d53810eb397a"
      },
      "source": [
        "df.head()"
      ],
      "execution_count": 109,
      "outputs": [
        {
          "output_type": "execute_result",
          "data": {
            "text/html": [
              "<div>\n",
              "<style scoped>\n",
              "    .dataframe tbody tr th:only-of-type {\n",
              "        vertical-align: middle;\n",
              "    }\n",
              "\n",
              "    .dataframe tbody tr th {\n",
              "        vertical-align: top;\n",
              "    }\n",
              "\n",
              "    .dataframe thead th {\n",
              "        text-align: right;\n",
              "    }\n",
              "</style>\n",
              "<table border=\"1\" class=\"dataframe\">\n",
              "  <thead>\n",
              "    <tr style=\"text-align: right;\">\n",
              "      <th></th>\n",
              "      <th>0</th>\n",
              "      <th>1</th>\n",
              "      <th>2</th>\n",
              "      <th>3</th>\n",
              "      <th>4</th>\n",
              "      <th>5</th>\n",
              "      <th>6</th>\n",
              "      <th>7</th>\n",
              "      <th>8</th>\n",
              "      <th>9</th>\n",
              "      <th>10</th>\n",
              "      <th>11</th>\n",
              "      <th>12</th>\n",
              "      <th>13</th>\n",
              "      <th>14</th>\n",
              "      <th>15</th>\n",
              "      <th>16</th>\n",
              "      <th>17</th>\n",
              "      <th>18</th>\n",
              "      <th>19</th>\n",
              "      <th>20</th>\n",
              "      <th>21</th>\n",
              "      <th>22</th>\n",
              "      <th>23</th>\n",
              "      <th>24</th>\n",
              "      <th>25</th>\n",
              "      <th>26</th>\n",
              "      <th>27</th>\n",
              "      <th>28</th>\n",
              "      <th>29</th>\n",
              "      <th>30</th>\n",
              "      <th>31</th>\n",
              "      <th>32</th>\n",
              "      <th>33</th>\n",
              "      <th>34</th>\n",
              "      <th>35</th>\n",
              "      <th>36</th>\n",
              "      <th>37</th>\n",
              "      <th>38</th>\n",
              "      <th>39</th>\n",
              "      <th>...</th>\n",
              "      <th>745</th>\n",
              "      <th>746</th>\n",
              "      <th>747</th>\n",
              "      <th>748</th>\n",
              "      <th>749</th>\n",
              "      <th>750</th>\n",
              "      <th>751</th>\n",
              "      <th>752</th>\n",
              "      <th>753</th>\n",
              "      <th>754</th>\n",
              "      <th>755</th>\n",
              "      <th>756</th>\n",
              "      <th>757</th>\n",
              "      <th>758</th>\n",
              "      <th>759</th>\n",
              "      <th>760</th>\n",
              "      <th>761</th>\n",
              "      <th>762</th>\n",
              "      <th>763</th>\n",
              "      <th>764</th>\n",
              "      <th>765</th>\n",
              "      <th>766</th>\n",
              "      <th>767</th>\n",
              "      <th>768</th>\n",
              "      <th>769</th>\n",
              "      <th>770</th>\n",
              "      <th>771</th>\n",
              "      <th>772</th>\n",
              "      <th>773</th>\n",
              "      <th>774</th>\n",
              "      <th>775</th>\n",
              "      <th>776</th>\n",
              "      <th>777</th>\n",
              "      <th>778</th>\n",
              "      <th>779</th>\n",
              "      <th>780</th>\n",
              "      <th>781</th>\n",
              "      <th>782</th>\n",
              "      <th>783</th>\n",
              "      <th>784</th>\n",
              "    </tr>\n",
              "  </thead>\n",
              "  <tbody>\n",
              "    <tr>\n",
              "      <th>0</th>\n",
              "      <td>5</td>\n",
              "      <td>0</td>\n",
              "      <td>0</td>\n",
              "      <td>0</td>\n",
              "      <td>0</td>\n",
              "      <td>0</td>\n",
              "      <td>0</td>\n",
              "      <td>0</td>\n",
              "      <td>0</td>\n",
              "      <td>0</td>\n",
              "      <td>0</td>\n",
              "      <td>0</td>\n",
              "      <td>0</td>\n",
              "      <td>0</td>\n",
              "      <td>0</td>\n",
              "      <td>0</td>\n",
              "      <td>0</td>\n",
              "      <td>0</td>\n",
              "      <td>0</td>\n",
              "      <td>0</td>\n",
              "      <td>0</td>\n",
              "      <td>0</td>\n",
              "      <td>0</td>\n",
              "      <td>0</td>\n",
              "      <td>0</td>\n",
              "      <td>0</td>\n",
              "      <td>0</td>\n",
              "      <td>0</td>\n",
              "      <td>0</td>\n",
              "      <td>0</td>\n",
              "      <td>0</td>\n",
              "      <td>0</td>\n",
              "      <td>0</td>\n",
              "      <td>0</td>\n",
              "      <td>0</td>\n",
              "      <td>0</td>\n",
              "      <td>0</td>\n",
              "      <td>0</td>\n",
              "      <td>0</td>\n",
              "      <td>0</td>\n",
              "      <td>...</td>\n",
              "      <td>0</td>\n",
              "      <td>0</td>\n",
              "      <td>0</td>\n",
              "      <td>0</td>\n",
              "      <td>0</td>\n",
              "      <td>0</td>\n",
              "      <td>0</td>\n",
              "      <td>0</td>\n",
              "      <td>0</td>\n",
              "      <td>0</td>\n",
              "      <td>0</td>\n",
              "      <td>0</td>\n",
              "      <td>0</td>\n",
              "      <td>0</td>\n",
              "      <td>0</td>\n",
              "      <td>0</td>\n",
              "      <td>0</td>\n",
              "      <td>0</td>\n",
              "      <td>0</td>\n",
              "      <td>0</td>\n",
              "      <td>0</td>\n",
              "      <td>0</td>\n",
              "      <td>0</td>\n",
              "      <td>0</td>\n",
              "      <td>0</td>\n",
              "      <td>0</td>\n",
              "      <td>0</td>\n",
              "      <td>0</td>\n",
              "      <td>0</td>\n",
              "      <td>0</td>\n",
              "      <td>0</td>\n",
              "      <td>0</td>\n",
              "      <td>0</td>\n",
              "      <td>0</td>\n",
              "      <td>0</td>\n",
              "      <td>0</td>\n",
              "      <td>0</td>\n",
              "      <td>0</td>\n",
              "      <td>0</td>\n",
              "      <td>0</td>\n",
              "    </tr>\n",
              "    <tr>\n",
              "      <th>1</th>\n",
              "      <td>0</td>\n",
              "      <td>0</td>\n",
              "      <td>0</td>\n",
              "      <td>0</td>\n",
              "      <td>0</td>\n",
              "      <td>0</td>\n",
              "      <td>0</td>\n",
              "      <td>0</td>\n",
              "      <td>0</td>\n",
              "      <td>0</td>\n",
              "      <td>0</td>\n",
              "      <td>0</td>\n",
              "      <td>0</td>\n",
              "      <td>0</td>\n",
              "      <td>0</td>\n",
              "      <td>0</td>\n",
              "      <td>0</td>\n",
              "      <td>0</td>\n",
              "      <td>0</td>\n",
              "      <td>0</td>\n",
              "      <td>0</td>\n",
              "      <td>0</td>\n",
              "      <td>0</td>\n",
              "      <td>0</td>\n",
              "      <td>0</td>\n",
              "      <td>0</td>\n",
              "      <td>0</td>\n",
              "      <td>0</td>\n",
              "      <td>0</td>\n",
              "      <td>0</td>\n",
              "      <td>0</td>\n",
              "      <td>0</td>\n",
              "      <td>0</td>\n",
              "      <td>0</td>\n",
              "      <td>0</td>\n",
              "      <td>0</td>\n",
              "      <td>0</td>\n",
              "      <td>0</td>\n",
              "      <td>0</td>\n",
              "      <td>0</td>\n",
              "      <td>...</td>\n",
              "      <td>0</td>\n",
              "      <td>0</td>\n",
              "      <td>0</td>\n",
              "      <td>0</td>\n",
              "      <td>0</td>\n",
              "      <td>0</td>\n",
              "      <td>0</td>\n",
              "      <td>0</td>\n",
              "      <td>0</td>\n",
              "      <td>0</td>\n",
              "      <td>0</td>\n",
              "      <td>0</td>\n",
              "      <td>0</td>\n",
              "      <td>0</td>\n",
              "      <td>0</td>\n",
              "      <td>0</td>\n",
              "      <td>0</td>\n",
              "      <td>0</td>\n",
              "      <td>0</td>\n",
              "      <td>0</td>\n",
              "      <td>0</td>\n",
              "      <td>0</td>\n",
              "      <td>0</td>\n",
              "      <td>0</td>\n",
              "      <td>0</td>\n",
              "      <td>0</td>\n",
              "      <td>0</td>\n",
              "      <td>0</td>\n",
              "      <td>0</td>\n",
              "      <td>0</td>\n",
              "      <td>0</td>\n",
              "      <td>0</td>\n",
              "      <td>0</td>\n",
              "      <td>0</td>\n",
              "      <td>0</td>\n",
              "      <td>0</td>\n",
              "      <td>0</td>\n",
              "      <td>0</td>\n",
              "      <td>0</td>\n",
              "      <td>0</td>\n",
              "    </tr>\n",
              "    <tr>\n",
              "      <th>2</th>\n",
              "      <td>4</td>\n",
              "      <td>0</td>\n",
              "      <td>0</td>\n",
              "      <td>0</td>\n",
              "      <td>0</td>\n",
              "      <td>0</td>\n",
              "      <td>0</td>\n",
              "      <td>0</td>\n",
              "      <td>0</td>\n",
              "      <td>0</td>\n",
              "      <td>0</td>\n",
              "      <td>0</td>\n",
              "      <td>0</td>\n",
              "      <td>0</td>\n",
              "      <td>0</td>\n",
              "      <td>0</td>\n",
              "      <td>0</td>\n",
              "      <td>0</td>\n",
              "      <td>0</td>\n",
              "      <td>0</td>\n",
              "      <td>0</td>\n",
              "      <td>0</td>\n",
              "      <td>0</td>\n",
              "      <td>0</td>\n",
              "      <td>0</td>\n",
              "      <td>0</td>\n",
              "      <td>0</td>\n",
              "      <td>0</td>\n",
              "      <td>0</td>\n",
              "      <td>0</td>\n",
              "      <td>0</td>\n",
              "      <td>0</td>\n",
              "      <td>0</td>\n",
              "      <td>0</td>\n",
              "      <td>0</td>\n",
              "      <td>0</td>\n",
              "      <td>0</td>\n",
              "      <td>0</td>\n",
              "      <td>0</td>\n",
              "      <td>0</td>\n",
              "      <td>...</td>\n",
              "      <td>0</td>\n",
              "      <td>0</td>\n",
              "      <td>0</td>\n",
              "      <td>0</td>\n",
              "      <td>0</td>\n",
              "      <td>0</td>\n",
              "      <td>0</td>\n",
              "      <td>0</td>\n",
              "      <td>0</td>\n",
              "      <td>0</td>\n",
              "      <td>0</td>\n",
              "      <td>0</td>\n",
              "      <td>0</td>\n",
              "      <td>0</td>\n",
              "      <td>0</td>\n",
              "      <td>0</td>\n",
              "      <td>0</td>\n",
              "      <td>0</td>\n",
              "      <td>0</td>\n",
              "      <td>0</td>\n",
              "      <td>0</td>\n",
              "      <td>0</td>\n",
              "      <td>0</td>\n",
              "      <td>0</td>\n",
              "      <td>0</td>\n",
              "      <td>0</td>\n",
              "      <td>0</td>\n",
              "      <td>0</td>\n",
              "      <td>0</td>\n",
              "      <td>0</td>\n",
              "      <td>0</td>\n",
              "      <td>0</td>\n",
              "      <td>0</td>\n",
              "      <td>0</td>\n",
              "      <td>0</td>\n",
              "      <td>0</td>\n",
              "      <td>0</td>\n",
              "      <td>0</td>\n",
              "      <td>0</td>\n",
              "      <td>0</td>\n",
              "    </tr>\n",
              "    <tr>\n",
              "      <th>3</th>\n",
              "      <td>1</td>\n",
              "      <td>0</td>\n",
              "      <td>0</td>\n",
              "      <td>0</td>\n",
              "      <td>0</td>\n",
              "      <td>0</td>\n",
              "      <td>0</td>\n",
              "      <td>0</td>\n",
              "      <td>0</td>\n",
              "      <td>0</td>\n",
              "      <td>0</td>\n",
              "      <td>0</td>\n",
              "      <td>0</td>\n",
              "      <td>0</td>\n",
              "      <td>0</td>\n",
              "      <td>0</td>\n",
              "      <td>0</td>\n",
              "      <td>0</td>\n",
              "      <td>0</td>\n",
              "      <td>0</td>\n",
              "      <td>0</td>\n",
              "      <td>0</td>\n",
              "      <td>0</td>\n",
              "      <td>0</td>\n",
              "      <td>0</td>\n",
              "      <td>0</td>\n",
              "      <td>0</td>\n",
              "      <td>0</td>\n",
              "      <td>0</td>\n",
              "      <td>0</td>\n",
              "      <td>0</td>\n",
              "      <td>0</td>\n",
              "      <td>0</td>\n",
              "      <td>0</td>\n",
              "      <td>0</td>\n",
              "      <td>0</td>\n",
              "      <td>0</td>\n",
              "      <td>0</td>\n",
              "      <td>0</td>\n",
              "      <td>0</td>\n",
              "      <td>...</td>\n",
              "      <td>0</td>\n",
              "      <td>0</td>\n",
              "      <td>0</td>\n",
              "      <td>0</td>\n",
              "      <td>0</td>\n",
              "      <td>0</td>\n",
              "      <td>0</td>\n",
              "      <td>0</td>\n",
              "      <td>0</td>\n",
              "      <td>0</td>\n",
              "      <td>0</td>\n",
              "      <td>0</td>\n",
              "      <td>0</td>\n",
              "      <td>0</td>\n",
              "      <td>0</td>\n",
              "      <td>0</td>\n",
              "      <td>0</td>\n",
              "      <td>0</td>\n",
              "      <td>0</td>\n",
              "      <td>0</td>\n",
              "      <td>0</td>\n",
              "      <td>0</td>\n",
              "      <td>0</td>\n",
              "      <td>0</td>\n",
              "      <td>0</td>\n",
              "      <td>0</td>\n",
              "      <td>0</td>\n",
              "      <td>0</td>\n",
              "      <td>0</td>\n",
              "      <td>0</td>\n",
              "      <td>0</td>\n",
              "      <td>0</td>\n",
              "      <td>0</td>\n",
              "      <td>0</td>\n",
              "      <td>0</td>\n",
              "      <td>0</td>\n",
              "      <td>0</td>\n",
              "      <td>0</td>\n",
              "      <td>0</td>\n",
              "      <td>0</td>\n",
              "    </tr>\n",
              "    <tr>\n",
              "      <th>4</th>\n",
              "      <td>9</td>\n",
              "      <td>0</td>\n",
              "      <td>0</td>\n",
              "      <td>0</td>\n",
              "      <td>0</td>\n",
              "      <td>0</td>\n",
              "      <td>0</td>\n",
              "      <td>0</td>\n",
              "      <td>0</td>\n",
              "      <td>0</td>\n",
              "      <td>0</td>\n",
              "      <td>0</td>\n",
              "      <td>0</td>\n",
              "      <td>0</td>\n",
              "      <td>0</td>\n",
              "      <td>0</td>\n",
              "      <td>0</td>\n",
              "      <td>0</td>\n",
              "      <td>0</td>\n",
              "      <td>0</td>\n",
              "      <td>0</td>\n",
              "      <td>0</td>\n",
              "      <td>0</td>\n",
              "      <td>0</td>\n",
              "      <td>0</td>\n",
              "      <td>0</td>\n",
              "      <td>0</td>\n",
              "      <td>0</td>\n",
              "      <td>0</td>\n",
              "      <td>0</td>\n",
              "      <td>0</td>\n",
              "      <td>0</td>\n",
              "      <td>0</td>\n",
              "      <td>0</td>\n",
              "      <td>0</td>\n",
              "      <td>0</td>\n",
              "      <td>0</td>\n",
              "      <td>0</td>\n",
              "      <td>0</td>\n",
              "      <td>0</td>\n",
              "      <td>...</td>\n",
              "      <td>147</td>\n",
              "      <td>252</td>\n",
              "      <td>42</td>\n",
              "      <td>0</td>\n",
              "      <td>0</td>\n",
              "      <td>0</td>\n",
              "      <td>0</td>\n",
              "      <td>0</td>\n",
              "      <td>0</td>\n",
              "      <td>0</td>\n",
              "      <td>0</td>\n",
              "      <td>0</td>\n",
              "      <td>0</td>\n",
              "      <td>0</td>\n",
              "      <td>0</td>\n",
              "      <td>0</td>\n",
              "      <td>0</td>\n",
              "      <td>0</td>\n",
              "      <td>0</td>\n",
              "      <td>0</td>\n",
              "      <td>0</td>\n",
              "      <td>0</td>\n",
              "      <td>0</td>\n",
              "      <td>0</td>\n",
              "      <td>0</td>\n",
              "      <td>0</td>\n",
              "      <td>0</td>\n",
              "      <td>0</td>\n",
              "      <td>0</td>\n",
              "      <td>0</td>\n",
              "      <td>0</td>\n",
              "      <td>0</td>\n",
              "      <td>0</td>\n",
              "      <td>0</td>\n",
              "      <td>0</td>\n",
              "      <td>0</td>\n",
              "      <td>0</td>\n",
              "      <td>0</td>\n",
              "      <td>0</td>\n",
              "      <td>0</td>\n",
              "    </tr>\n",
              "  </tbody>\n",
              "</table>\n",
              "<p>5 rows × 785 columns</p>\n",
              "</div>"
            ],
            "text/plain": [
              "   0    1    2    3    4    5    6    ...  778  779  780  781  782  783  784\n",
              "0    5    0    0    0    0    0    0  ...    0    0    0    0    0    0    0\n",
              "1    0    0    0    0    0    0    0  ...    0    0    0    0    0    0    0\n",
              "2    4    0    0    0    0    0    0  ...    0    0    0    0    0    0    0\n",
              "3    1    0    0    0    0    0    0  ...    0    0    0    0    0    0    0\n",
              "4    9    0    0    0    0    0    0  ...    0    0    0    0    0    0    0\n",
              "\n",
              "[5 rows x 785 columns]"
            ]
          },
          "metadata": {
            "tags": []
          },
          "execution_count": 109
        }
      ]
    },
    {
      "cell_type": "code",
      "metadata": {
        "colab": {
          "base_uri": "https://localhost:8080/"
        },
        "id": "15nKHHkZsBkJ",
        "outputId": "eb6af608-3c41-45bb-b36e-29d9e9bc0724"
      },
      "source": [
        "df.info()"
      ],
      "execution_count": 110,
      "outputs": [
        {
          "output_type": "stream",
          "text": [
            "<class 'pandas.core.frame.DataFrame'>\n",
            "RangeIndex: 60000 entries, 0 to 59999\n",
            "Columns: 785 entries, 0 to 784\n",
            "dtypes: int64(785)\n",
            "memory usage: 359.3 MB\n"
          ],
          "name": "stdout"
        }
      ]
    },
    {
      "cell_type": "code",
      "metadata": {
        "id": "WlvCxWC2sIZI"
      },
      "source": [
        "import matplotlib.pyplot as plt"
      ],
      "execution_count": 111,
      "outputs": []
    },
    {
      "cell_type": "code",
      "metadata": {
        "colab": {
          "base_uri": "https://localhost:8080/",
          "height": 281
        },
        "id": "Exnq1lGXsMZo",
        "outputId": "eee2e4ba-0e2c-4514-9a24-f84f2cbb6b33"
      },
      "source": [
        "# 데이터프레임으로부터 데이터 할당\n",
        "row = 13\n",
        "data = df.iloc[row]\n",
        "\n",
        "# 첫 번째 값은 레이블\n",
        "label = data[0]\n",
        "\n",
        "# 이미지 데이터는 나머지 784개의 값\n",
        "img = data[1:].values.reshape(28,28)\n",
        "plt.title(\"label = \" + str(label))\n",
        "plt.imshow(img, interpolation='none', cmap='Blues')\n",
        "plt.show()"
      ],
      "execution_count": 112,
      "outputs": [
        {
          "output_type": "display_data",
          "data": {
            "image/png": "[encoded data removed]",
            "text/plain": [
              "<Figure size 432x288 with 1 Axes>"
            ]
          },
          "metadata": {
            "tags": [],
            "needs_background": "light"
          }
        }
      ]
    },
    {
      "cell_type": "code",
      "metadata": {
        "colab": {
          "base_uri": "https://localhost:8080/",
          "height": 281
        },
        "id": "aEer_zHi7o-4",
        "outputId": "2274083d-a49f-4f73-fb58-2d97df1f4c5d"
      },
      "source": [
        "# get data from dataframe\n",
        "row = 0\n",
        "data = df.iloc[row]\n",
        "\n",
        "# label in the first value\n",
        "label = data[0]\n",
        "\n",
        "# image data is the remaining 784 values\n",
        "img = data[1:].values.reshape(28,28)\n",
        "plt.title(\"label = \" + str(label))\n",
        "plt.imshow(img, interpolation='none', cmap='Blues')\n",
        "plt.show()"
      ],
      "execution_count": 113,
      "outputs": [
        {
          "output_type": "display_data",
          "data": {
            "image/png": "[encoded data removed]",
            "text/plain": [
              "<Figure size 432x288 with 1 Axes>"
            ]
          },
          "metadata": {
            "tags": [],
            "needs_background": "light"
          }
        }
      ]
    },
    {
      "cell_type": "markdown",
      "metadata": {
        "id": "2PT2GPn48RSs"
      },
      "source": [
        "# 간단한 신경망 / 훈련 시각화하기"
      ]
    },
    {
      "cell_type": "code",
      "metadata": {
        "id": "8-53_Vd18QLY"
      },
      "source": [
        "import torch\n",
        "import torch.nn as nn"
      ],
      "execution_count": 114,
      "outputs": []
    },
    {
      "cell_type": "code",
      "metadata": {
        "id": "3Ztvk67K-QRm"
      },
      "source": [
        "class Classifier(nn.Module):\n",
        "\n",
        "  def __init__(self):\n",
        "    # 부모 클래스 초기화\n",
        "    super().__init__()\n",
        "\n",
        "    # 신경망 레이어 정의\n",
        "    self.model = nn.Sequential(\n",
        "        nn.Linear(784, 200),\n",
        "        #nn.Sigmoid(),\n",
        "        nn.LeakyReLU(0.02),\n",
        "\n",
        "        nn.LayerNorm(200),\n",
        "\n",
        "        nn.Linear(200, 10),\n",
        "        nn.Sigmoid()\n",
        "        #nn.LeakyReLU(0.02)\n",
        "    )\n",
        "\n",
        "    # 손실함수 설정 : mse에서 bce(이진 교차 엔트로피)로 변경\n",
        "    self.loss_function = nn.MSELoss()\n",
        "    #self.loss_function = nn.BCELoss()\n",
        "\n",
        "    # 단순한 SGD 옵티마이저 설정\n",
        "    #self.optimizer = torch.optim.SGD(self.parameters(), lr=0.01)\n",
        "    self.optimizer = torch.optim.Adam(self.parameters())\n",
        "\n",
        "    # 변수 초기화\n",
        "    self.counter = 0\n",
        "    self.progress = []\n",
        "\n",
        "    pass\n",
        "\n",
        "  def forward(self, inputs):\n",
        "    # 모델 실행\n",
        "    return self.model(inputs)\n",
        "\n",
        "  def train(self, inputs, targets):\n",
        "    # 신경망 출력 계산\n",
        "    outputs = self.forward(inputs)\n",
        "\n",
        "    # 손실 계산\n",
        "    loss = self.loss_function(outputs, targets)\n",
        "\n",
        "    # increase counter and accumulate error every 10\n",
        "    self.counter += 1\n",
        "    if (self.counter % 10 == 0):\n",
        "      self.progress.append(loss.item())\n",
        "      pass\n",
        "    if (self.counter % 10000 == 0):\n",
        "      print(\"counter = \", self.counter)\n",
        "      pass\n",
        "\n",
        "    # 기울기 초기화, 역전파 실행, 가중치 갱신\n",
        "    self.optimizer.zero_grad()\n",
        "    loss.backward()\n",
        "    self.optimizer.step()\n",
        "\n",
        "    pass\n",
        "\n",
        "  def plot_progress(self):\n",
        "    df = pandas.DataFrame(self.progress, columns=['loss'])\n",
        "    df.plot(ylim=(0, 1.0), figsize=(16,8), alpha=0.1, marker='.',\n",
        "            grid=True, yticks=(0, 0.25, 0.5))\n",
        "    pass\n",
        "\n",
        "  pass"
      ],
      "execution_count": 115,
      "outputs": []
    },
    {
      "cell_type": "markdown",
      "metadata": {
        "id": "KclFli9f_Vja"
      },
      "source": [
        "# MNIST 데이터셋 클래스"
      ]
    },
    {
      "cell_type": "code",
      "metadata": {
        "id": "-OxW0PFf_VR0"
      },
      "source": [
        "from torch.utils.data import Dataset"
      ],
      "execution_count": 116,
      "outputs": []
    },
    {
      "cell_type": "code",
      "metadata": {
        "id": "y6vzMQTt_jcl"
      },
      "source": [
        "class MnistDataset(Dataset):\n",
        "\n",
        "  def __init__(self, csv_file):\n",
        "    self.data_df = pandas.read_csv(csv_file, header=None)\n",
        "    pass\n",
        "\n",
        "  def __len__(self):\n",
        "    return len(self.data_df)\n",
        "\n",
        "  def __getitem__(self, index):\n",
        "    # 이미지 목표(레이블)\n",
        "    label = self.data_df.iloc[index,0]\n",
        "    target = torch.zeros((10))\n",
        "    target[label] = 1.0\n",
        "\n",
        "    # 0-255의 이미지를 0-1로 정규화\n",
        "    image_values = torch.FloatTensor(self.data_df.iloc[index,1:].values) / 255.0\n",
        "\n",
        "    # 레이블, 이미지 데이터 텐서, 목표 텐서 반환\n",
        "    return label, image_values, target\n",
        "\n",
        "  def plot_image(self, index):\n",
        "    img = self.data_df.iloc[index,1:].values.reshape(28,28)\n",
        "    plt.title(\"label = \" + str(self.data_df.iloc[index,0]))\n",
        "    plt.imshow(img, interpolation='none', cmap='Blues')\n",
        "    pass\n",
        "\n",
        "  pass\n",
        "\n",
        "  def plot_image(self, index):\n",
        "    img = self.data_df.iloc[index,1:].values.reshape(28,28)\n",
        "    plt.title(\"label = \" + str(self.data_df.iloc[index,0]))\n",
        "    plt.imshow(img, interpolation='none', cmap='Blues')\n",
        "    pass"
      ],
      "execution_count": 117,
      "outputs": []
    },
    {
      "cell_type": "code",
      "metadata": {
        "id": "tB7NnmCNBvW1"
      },
      "source": [
        "mnist_dataset = MnistDataset('/content/mnist_train.csv')"
      ],
      "execution_count": 118,
      "outputs": []
    },
    {
      "cell_type": "code",
      "metadata": {
        "colab": {
          "base_uri": "https://localhost:8080/",
          "height": 281
        },
        "id": "phKuPo7PB1fr",
        "outputId": "3532c0c2-3493-4cf9-e231-0d4f5bd7e6d4"
      },
      "source": [
        "mnist_dataset.plot_image(9)"
      ],
      "execution_count": 119,
      "outputs": [
        {
          "output_type": "display_data",
          "data": {
            "image/png": "[encoded data removed]",
            "text/plain": [
              "<Figure size 432x288 with 1 Axes>"
            ]
          },
          "metadata": {
            "tags": [],
            "needs_background": "light"
          }
        }
      ]
    },
    {
      "cell_type": "markdown",
      "metadata": {
        "id": "CvssFxOUCBHq"
      },
      "source": [
        "# 분류기 훈련시키기"
      ]
    },
    {
      "cell_type": "code",
      "metadata": {
        "colab": {
          "base_uri": "https://localhost:8080/"
        },
        "id": "L50jLen2CObk",
        "outputId": "b673f5ab-5e2a-4756-a07c-f343cb214fb9"
      },
      "source": [
        "%%time\n",
        "\n",
        "# 신경망 생성\n",
        "C = Classifier()\n",
        "\n",
        "# MNIST 데이터에 대해 훈련 진행\n",
        "epochs = 3\n",
        "for i in range(epochs):\n",
        "  print('training epoch', i+1, \"of\", epochs)\n",
        "  for label, image_data_tensor, target_tensor in mnist_dataset:\n",
        "    C.train(image_data_tensor, target_tensor)\n",
        "    pass\n",
        "  pass"
      ],
      "execution_count": 120,
      "outputs": [
        {
          "output_type": "stream",
          "text": [
            "training epoch 1 of 3\n",
            "counter =  10000\n",
            "counter =  20000\n",
            "counter =  30000\n",
            "counter =  40000\n",
            "counter =  50000\n",
            "counter =  60000\n",
            "training epoch 2 of 3\n",
            "counter =  70000\n",
            "counter =  80000\n",
            "counter =  90000\n",
            "counter =  100000\n",
            "counter =  110000\n",
            "counter =  120000\n",
            "training epoch 3 of 3\n",
            "counter =  130000\n",
            "counter =  140000\n",
            "counter =  150000\n",
            "counter =  160000\n",
            "counter =  170000\n",
            "counter =  180000\n",
            "CPU times: user 14min 18s, sys: 13.7 s, total: 14min 32s\n",
            "Wall time: 7min 15s\n"
          ],
          "name": "stdout"
        }
      ]
    },
    {
      "cell_type": "code",
      "metadata": {
        "colab": {
          "base_uri": "https://localhost:8080/",
          "height": 483
        },
        "id": "MVLbOHQyEr3h",
        "outputId": "2fc026a7-993c-4399-a817-e76458fdae64"
      },
      "source": [
        "# 분류기 오차 출력\n",
        "C.plot_progress()"
      ],
      "execution_count": 121,
      "outputs": [
        {
          "output_type": "display_data",
          "data": {
            "image/png": "[encoded data removed]",
            "text/plain": [
              "<Figure size 1152x576 with 1 Axes>"
            ]
          },
          "metadata": {
            "tags": [],
            "needs_background": "light"
          }
        }
      ]
    },
    {
      "cell_type": "markdown",
      "metadata": {
        "id": "5JE-nqavFcsa"
      },
      "source": [
        "# 신경망에 쿼리하기"
      ]
    },
    {
      "cell_type": "code",
      "metadata": {
        "id": "PBBJ6oQPFe4p"
      },
      "source": [
        "# MNIST 테스트 데이터 로드\n",
        "mnist_test_dataset = MnistDataset('/content/mnist_test.csv')"
      ],
      "execution_count": 122,
      "outputs": []
    },
    {
      "cell_type": "code",
      "metadata": {
        "colab": {
          "base_uri": "https://localhost:8080/",
          "height": 281
        },
        "id": "V-azNnX2FmbK",
        "outputId": "75a4f887-11e8-4cb6-a9a2-71aea62909af"
      },
      "source": [
        "# 레코드 설정\n",
        "record = 19\n",
        "\n",
        "# 이미지와 정답 출력\n",
        "mnist_test_dataset.plot_image(record)"
      ],
      "execution_count": 123,
      "outputs": [
        {
          "output_type": "display_data",
          "data": {
            "image/png": "[encoded data removed]",
            "text/plain": [
              "<Figure size 432x288 with 1 Axes>"
            ]
          },
          "metadata": {
            "tags": [],
            "needs_background": "light"
          }
        }
      ]
    },
    {
      "cell_type": "code",
      "metadata": {
        "colab": {
          "base_uri": "https://localhost:8080/",
          "height": 283
        },
        "id": "jD1zgZCIFuuh",
        "outputId": "c0560bda-b89b-425c-d690-270f4acd2407"
      },
      "source": [
        "image_data = mnist_test_dataset[record][1]\n",
        "\n",
        "# 훈련된 신경망으로부터 쿼리\n",
        "output = C.forward(image_data)\n",
        "\n",
        "# 텐서 출력\n",
        "pandas.DataFrame(output.detach().numpy()).plot(kind='bar', legend=False, ylim=(0,1))"
      ],
      "execution_count": 124,
      "outputs": [
        {
          "output_type": "execute_result",
          "data": {
            "text/plain": [
              "<matplotlib.axes._subplots.AxesSubplot at 0x7f8427894210>"
            ]
          },
          "metadata": {
            "tags": []
          },
          "execution_count": 124
        },
        {
          "output_type": "display_data",
          "data": {
            "image/png": "[encoded data removed]",
            "text/plain": [
              "<Figure size 432x288 with 1 Axes>"
            ]
          },
          "metadata": {
            "tags": [],
            "needs_background": "light"
          }
        }
      ]
    },
    {
      "cell_type": "code",
      "metadata": {
        "colab": {
          "base_uri": "https://localhost:8080/",
          "height": 547
        },
        "id": "p_bs1jXoGHCp",
        "outputId": "b6f4adfa-e57d-421c-fdb6-cbf5c22b5795"
      },
      "source": [
        "# 애매한 이미지\n",
        "\n",
        "record = 42\n",
        "\n",
        "# 이미지와 정답 출력\n",
        "mnist_test_dataset.plot_image(record)\n",
        "\n",
        "image_data = mnist_test_dataset[record][1]\n",
        "\n",
        "# 훈련된 신경망으로부터 쿼리\n",
        "output = C.forward(image_data)\n",
        "\n",
        "# 텐서 출력\n",
        "pandas.DataFrame(output.detach().numpy()).plot(kind='bar', legend=False, ylim=(0,1))"
      ],
      "execution_count": 125,
      "outputs": [
        {
          "output_type": "execute_result",
          "data": {
            "text/plain": [
              "<matplotlib.axes._subplots.AxesSubplot at 0x7f8427883510>"
            ]
          },
          "metadata": {
            "tags": []
          },
          "execution_count": 125
        },
        {
          "output_type": "display_data",
          "data": {
            "image/png": "[encoded data removed]",
            "text/plain": [
              "<Figure size 432x288 with 1 Axes>"
            ]
          },
          "metadata": {
            "tags": [],
            "needs_background": "light"
          }
        },
        {
          "output_type": "display_data",
          "data": {
            "image/png": "[encoded data removed]",
            "text/plain": [
              "<Figure size 432x288 with 1 Axes>"
            ]
          },
          "metadata": {
            "tags": [],
            "needs_background": "light"
          }
        }
      ]
    },
    {
      "cell_type": "markdown",
      "metadata": {
        "id": "K65bAp6kGayg"
      },
      "source": [
        "# 분류기의 성능"
      ]
    },
    {
      "cell_type": "code",
      "metadata": {
        "colab": {
          "base_uri": "https://localhost:8080/"
        },
        "id": "kUkzpZj7GccI",
        "outputId": "873f4da8-b885-401c-c6ce-f85919a62d6f"
      },
      "source": [
        "# 훈련된 신경망을 테스트 데이터셋에 대해 테스트\n",
        "# 아무것도 안함: 0.87\n",
        "# BCE로 변경: 0.9028\n",
        "# LeakyReLu로 변경: 0.9484\n",
        "# MSE, Adam: 0.9638\n",
        "# 레이어 정규화: 0.9248\n",
        "\n",
        "score = 0\n",
        "items = 0\n",
        "\n",
        "for label, image_data_tensor, target_tensor in mnist_test_dataset:\n",
        "  answer = C.forward(image_data_tensor).detach().numpy()\n",
        "  if (answer.argmax() == label):\n",
        "    score += 1\n",
        "    pass\n",
        "  items += 1\n",
        "\n",
        "  pass\n",
        "\n",
        "print(score, items, score/items)"
      ],
      "execution_count": 126,
      "outputs": [
        {
          "output_type": "stream",
          "text": [
            "9693 10000 0.9693\n"
          ],
          "name": "stdout"
        }
      ]
    }
  ]
}