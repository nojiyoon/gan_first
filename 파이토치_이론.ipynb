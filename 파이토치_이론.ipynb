{
  "nbformat": 4,
  "nbformat_minor": 0,
  "metadata": {
    "colab": {
      "name": "파이토치 이론.ipynb",
      "provenance": [],
      "authorship_tag": "ABX9TyMKhXSgMI8hkh4rGYvYwYjf",
      "include_colab_link": true
    },
    "kernelspec": {
      "name": "python3",
      "display_name": "Python 3"
    },
    "language_info": {
      "name": "python"
    }
  },
  "cells": [
    {
      "cell_type": "markdown",
      "metadata": {
        "id": "view-in-github",
        "colab_type": "text"
      },
      "source": [
        "<a href=\"https://colab.research.google.com/github/nojiyoon/pytorch_basic/blob/main/%ED%8C%8C%EC%9D%B4%ED%86%A0%EC%B9%98_%EC%9D%B4%EB%A1%A0.ipynb\" target=\"_parent\"><img src=\"https://colab.research.google.com/assets/colab-badge.svg\" alt=\"Open In Colab\"/></a>"
      ]
    },
    {
      "cell_type": "markdown",
      "metadata": {
        "id": "zBJw136ZLChu"
      },
      "source": [
        "https://github.com/makeyourownneuralnetwork/gan/blob/master/01_pytorch_computation_graph.ipynb"
      ]
    },
    {
      "cell_type": "code",
      "metadata": {
        "id": "92Oo8kn_lXya"
      },
      "source": [
        "import torch"
      ],
      "execution_count": null,
      "outputs": []
    },
    {
      "cell_type": "code",
      "metadata": {
        "colab": {
          "base_uri": "https://localhost:8080/"
        },
        "id": "_BzAmRoBldn3",
        "outputId": "a91a81ac-1c60-4d42-8b55-98d124917ee7"
      },
      "source": [
        "# normal python variables\n",
        "\n",
        "x = 3.5\n",
        "\n",
        "y = x*x + 2\n",
        "\n",
        "print(x,y)"
      ],
      "execution_count": null,
      "outputs": [
        {
          "output_type": "stream",
          "text": [
            "3.5 14.25\n"
          ],
          "name": "stdout"
        }
      ]
    },
    {
      "cell_type": "code",
      "metadata": {
        "colab": {
          "base_uri": "https://localhost:8080/"
        },
        "id": "5NPaiR1mllKl",
        "outputId": "2f5c2601-f541-4ecb-de57-9a6020e05ae9"
      },
      "source": [
        "# simple pytorch tensor\n",
        "\n",
        "x = torch.tensor(3.5)\n",
        "\n",
        "print(x)"
      ],
      "execution_count": null,
      "outputs": [
        {
          "output_type": "stream",
          "text": [
            "tensor(3.5000)\n"
          ],
          "name": "stdout"
        }
      ]
    },
    {
      "cell_type": "code",
      "metadata": {
        "colab": {
          "base_uri": "https://localhost:8080/"
        },
        "id": "JeZKqp2mlscN",
        "outputId": "6d059026-87d9-4719-a6ed-e180b673c282"
      },
      "source": [
        "# simple arithmetic with tensors\n",
        "\n",
        "y = x + 3\n",
        "\n",
        "print(y)"
      ],
      "execution_count": null,
      "outputs": [
        {
          "output_type": "stream",
          "text": [
            "tensor(6.5000)\n"
          ],
          "name": "stdout"
        }
      ]
    },
    {
      "cell_type": "code",
      "metadata": {
        "colab": {
          "base_uri": "https://localhost:8080/"
        },
        "id": "XU6bfkCmlzid",
        "outputId": "9896e832-97e6-4e22-8bbc-65972d064d6d"
      },
      "source": [
        "# pytorch tensor with gradient enabled\n",
        "\n",
        "x = torch.tensor(3.5, requires_grad=True)\n",
        "\n",
        "print(x)"
      ],
      "execution_count": null,
      "outputs": [
        {
          "output_type": "stream",
          "text": [
            "tensor(3.5000, requires_grad=True)\n"
          ],
          "name": "stdout"
        }
      ]
    },
    {
      "cell_type": "code",
      "metadata": {
        "colab": {
          "base_uri": "https://localhost:8080/"
        },
        "id": "qe5sWqRgl8Ak",
        "outputId": "063026e1-dade-49ab-f0a9-86d66fd0a915"
      },
      "source": [
        "# y is defined as a function of x\n",
        "\n",
        "y = (x-1) * (x-2) * (x-3)\n",
        "\n",
        "print(y)"
      ],
      "execution_count": null,
      "outputs": [
        {
          "output_type": "stream",
          "text": [
            "tensor(1.8750, grad_fn=<MulBackward0>)\n"
          ],
          "name": "stdout"
        }
      ]
    },
    {
      "cell_type": "code",
      "metadata": {
        "id": "URJUarAlmGlE"
      },
      "source": [
        "# work out gradients\n",
        "\n",
        "y.backward()"
      ],
      "execution_count": null,
      "outputs": []
    },
    {
      "cell_type": "code",
      "metadata": {
        "colab": {
          "base_uri": "https://localhost:8080/"
        },
        "id": "H5A9FsoOmMWF",
        "outputId": "1e5671d8-4446-4160-c1c1-eb951a354726"
      },
      "source": [
        "# what is gradient at x = 3.5\n",
        "\n",
        "x.grad"
      ],
      "execution_count": null,
      "outputs": [
        {
          "output_type": "execute_result",
          "data": {
            "text/plain": [
              "tensor(5.7500)"
            ]
          },
          "metadata": {
            "tags": []
          },
          "execution_count": 8
        }
      ]
    },
    {
      "cell_type": "code",
      "metadata": {
        "id": "Hyi2X7mimVOt"
      },
      "source": [
        "# set up simple graph relating x, y and z\n",
        "\n",
        "x = torch.tensor(3.5, requires_grad=True)\n",
        "\n",
        "y = x*x\n",
        "\n",
        "z = 2*y + 3"
      ],
      "execution_count": null,
      "outputs": []
    },
    {
      "cell_type": "code",
      "metadata": {
        "id": "rU752W_wmfsg"
      },
      "source": [
        "# work out gradients\n",
        "\n",
        "z.backward()"
      ],
      "execution_count": null,
      "outputs": []
    },
    {
      "cell_type": "code",
      "metadata": {
        "colab": {
          "base_uri": "https://localhost:8080/"
        },
        "id": "lkK_4mURmi_g",
        "outputId": "645b0557-863d-40e0-a16c-cb92d015f7c2"
      },
      "source": [
        "# what is gradient at x = 3.5\n",
        "\n",
        "print(x.grad)"
      ],
      "execution_count": null,
      "outputs": [
        {
          "output_type": "stream",
          "text": [
            "tensor(14.)\n"
          ],
          "name": "stdout"
        }
      ]
    },
    {
      "cell_type": "code",
      "metadata": {
        "id": "tOPh7MsymtXW"
      },
      "source": [
        "# set up simple graph relating x, y and z\n",
        "\n",
        "a = torch.tensor(2.0, requires_grad=True)\n",
        "b = torch.tensor(1.0, requires_grad=True)\n",
        "\n",
        "x = 2*a + 3*b\n",
        "\n",
        "y = 5*a*a + 3*b*b*b\n",
        "\n",
        "z = 2*x + 3*y"
      ],
      "execution_count": null,
      "outputs": []
    },
    {
      "cell_type": "code",
      "metadata": {
        "id": "DLdkwyp4nGAM"
      },
      "source": [
        "# work out gradients\n",
        "\n",
        "z.backward()"
      ],
      "execution_count": null,
      "outputs": []
    },
    {
      "cell_type": "code",
      "metadata": {
        "colab": {
          "base_uri": "https://localhost:8080/"
        },
        "id": "JK7AqmwLnJ6M",
        "outputId": "37b531a3-5456-4885-ef12-bf41c0f82db0"
      },
      "source": [
        "# what is gradient at a = 2.0\n",
        "\n",
        "a.grad"
      ],
      "execution_count": null,
      "outputs": [
        {
          "output_type": "execute_result",
          "data": {
            "text/plain": [
              "tensor(64.)"
            ]
          },
          "metadata": {
            "tags": []
          },
          "execution_count": 16
        }
      ]
    }
  ]
}